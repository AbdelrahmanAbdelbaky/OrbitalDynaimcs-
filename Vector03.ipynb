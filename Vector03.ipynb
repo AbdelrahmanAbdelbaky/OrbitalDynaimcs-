{
 "cells": [
  {
   "cell_type": "markdown",
   "metadata": {},
   "source": [
    "# Physics Practice - Vectors\n",
    "## Exercises \n",
    "Programmer: Carlos Prado.\n",
    "\n",
    "Fonts: \n",
    "https://www.youtube.com/watch?v=etX1fU9PvqU&list=PL3KGq8pH1bFS0lr5NfcXXgSxh4CGQqY-i&index=6\n",
    "\n",
    "https://www.youtube.com/watch?v=ml4NSzCQobk"
   ]
  },
  {
   "cell_type": "markdown",
   "metadata": {},
   "source": [
    "### 3) - Find the module of the Resultant\n",
    "$|\\vec a|=5$ ;  $|\\vec b|=5$  \n",
    "$\\theta = 45°$\n",
    "### Parallelogram method\n",
    "$|\\vec R| = a^2 + b^2 + 2.a.b.\\cos(\\theta )$  \n",
    "$|\\vec R| = 5^2 + 5^2 + 2.5.5.\\cos(45°)$  \n",
    "$|\\vec R| = 100\\cos(45°)$  \n",
    "$|\\vec R| = 5^2 + 5^2 + 2.5.5.\\cos(45°)$  \n",
    "$|\\vec R| = \\sqrt{100  x  0.707107}$  \n",
    "$|\\vec R| \\simeq 9.24$\n"
   ]
  },
  {
   "cell_type": "code",
   "execution_count": 1,
   "metadata": {},
   "outputs": [
    {
     "data": {
      "application/javascript": [
       "if (typeof Jupyter !== \"undefined\") {require.undef(\"nbextensions/vpython_libraries/glow.min\");}else{element.textContent = ' ';}"
      ],
      "text/plain": [
       "<IPython.core.display.Javascript object>"
      ]
     },
     "metadata": {},
     "output_type": "display_data"
    },
    {
     "data": {
      "application/javascript": [
       "if (typeof Jupyter !== \"undefined\") {require.undef(\"nbextensions/vpython_libraries/glowcomm\");}else{element.textContent = ' ';}"
      ],
      "text/plain": [
       "<IPython.core.display.Javascript object>"
      ]
     },
     "metadata": {},
     "output_type": "display_data"
    },
    {
     "data": {
      "application/javascript": [
       "if (typeof Jupyter !== \"undefined\") {require.undef(\"nbextensions/vpython_libraries/jquery-ui.custom.min\");}else{element.textContent = ' ';}"
      ],
      "text/plain": [
       "<IPython.core.display.Javascript object>"
      ]
     },
     "metadata": {},
     "output_type": "display_data"
    },
    {
     "data": {
      "application/javascript": [
       "if (typeof Jupyter !== \"undefined\") {require([\"nbextensions/vpython_libraries/glow.min\"], function(){console.log(\"GLOW LOADED\");});}else{element.textContent = ' ';}"
      ],
      "text/plain": [
       "<IPython.core.display.Javascript object>"
      ]
     },
     "metadata": {},
     "output_type": "display_data"
    },
    {
     "data": {
      "application/javascript": [
       "if (typeof Jupyter !== \"undefined\") {require([\"nbextensions/vpython_libraries/glowcomm\"], function(){console.log(\"GLOWCOMM LOADED\");});}else{element.textContent = ' ';}"
      ],
      "text/plain": [
       "<IPython.core.display.Javascript object>"
      ]
     },
     "metadata": {},
     "output_type": "display_data"
    },
    {
     "data": {
      "application/javascript": [
       "if (typeof Jupyter !== \"undefined\") {require([\"nbextensions/vpython_libraries/jquery-ui.custom.min\"], function(){console.log(\"JQUERY LOADED\");});}else{element.textContent = ' ';}"
      ],
      "text/plain": [
       "<IPython.core.display.Javascript object>"
      ]
     },
     "metadata": {},
     "output_type": "display_data"
    },
    {
     "data": {
      "text/html": [
       "<div id=\"glowscript\" class=\"glowscript\"></div>"
      ],
      "text/plain": [
       "<IPython.core.display.HTML object>"
      ]
     },
     "metadata": {},
     "output_type": "display_data"
    },
    {
     "data": {
      "application/javascript": [
       "if (typeof Jupyter !== \"undefined\") { window.__context = { glowscript_container: $(\"#glowscript\").removeAttr(\"id\")};}else{ element.textContent = ' ';}"
      ],
      "text/plain": [
       "<IPython.core.display.Javascript object>"
      ]
     },
     "metadata": {},
     "output_type": "display_data"
    },
    {
     "data": {
      "text/html": [
       "<div id=\"glowscript\" class=\"glowscript\"></div>"
      ],
      "text/plain": [
       "<IPython.core.display.HTML object>"
      ]
     },
     "metadata": {},
     "output_type": "display_data"
    },
    {
     "data": {
      "application/javascript": [
       "if (typeof Jupyter !== \"undefined\") { window.__context = { glowscript_container: $(\"#glowscript\").removeAttr(\"id\")};}else{ element.textContent = ' ';}"
      ],
      "text/plain": [
       "<IPython.core.display.Javascript object>"
      ]
     },
     "metadata": {},
     "output_type": "display_data"
    },
    {
     "name": "stdout",
     "output_type": "stream",
     "text": [
      "a = 5 ||b = 5 ||R = 9.238795325112868\n"
     ]
    }
   ],
   "source": [
    "#------Visualitation 3D in VPython------------#\n",
    "from vpython import *\n",
    "import math\n",
    "#Escene\n",
    "canvas(title='Exercise 3',width=300, height=200,center=vector(0,0,0), background=color.black)\n",
    "a = 5 ;b= 5; \n",
    "#create objects\n",
    "B1=sphere(pos=vector(0,0,0), radius=0.3 , color=color.red)\n",
    "B2=sphere(pos=vector(0,b/2,0), radius=0.01 , color=color.red)\n",
    "B3=sphere(pos=vector(a/2,0,0), radius=0.01 , color=color.red)\n",
    "B4=sphere(pos=vector(5/2,5/2,0), radius=0.01 , color=color.red)\n",
    "#create vector\n",
    "F1=arrow(pos=B1.pos, axis=B2.pos-B1.pos, color=color.red)\n",
    "F2=arrow(pos=B1.pos, axis=B3.pos-B1.pos, color=color.yellow)\n",
    "F3=arrow(pos=B1.pos, axis=B4.pos-B1.pos, color=color.green)\n",
    "#mathematical calculations\n",
    "c= math.cos(math.radians(45))\n",
    "R=math.sqrt(a**2 + b**2 + 2*a*b*c)\n",
    "print(\"a =\",a,\"||b =\",b,\"||R =\",R)"
   ]
  },
  {
   "cell_type": "code",
   "execution_count": null,
   "metadata": {},
   "outputs": [],
   "source": []
  }
 ],
 "metadata": {
  "kernelspec": {
   "display_name": "VPython",
   "language": "python",
   "name": "vpython"
  },
  "language_info": {
   "codemirror_mode": {
    "name": "ipython",
    "version": 3
   },
   "file_extension": ".py",
   "mimetype": "text/x-python",
   "name": "python",
   "nbconvert_exporter": "python",
   "pygments_lexer": "ipython3",
   "version": "3.7.0"
  }
 },
 "nbformat": 4,
 "nbformat_minor": 2
}
