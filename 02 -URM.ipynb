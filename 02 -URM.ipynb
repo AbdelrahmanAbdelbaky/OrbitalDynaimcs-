{
 "cells": [
  {
   "cell_type": "markdown",
   "metadata": {},
   "source": [
    "# Physics Practice - (URM) - Lvl 2\n",
    "#### Notebook 2 - Uniform rectilinear motion \n",
    "<b>Programmer:</b> Carlos Prado. - 13/12/2018  \n",
    "<b>Objective:</b> To review URM,learn the Latex language and implement the code in Python\n"
   ]
  },
  {
   "cell_type": "markdown",
   "metadata": {},
   "source": [
    "#### Exercise 1\n",
    "A car and a train depart simultaneously at constant speeds of 120 Km/hs and 150Km/hs respectively and in opposite directions separated by 540 Km. How long will they cross? \n",
    "\n",
    "<b>Res:</b>: \n",
    "- $v_{1} = 120 \\frac {Km}{hs}$  ;   \n",
    "- $v_{2} = 150 \\frac {Km}{hs}$\n",
    "- $e = v \\cdot t$\n",
    "\n",
    "- $e_{1} = v_{1}\\cdot t => e_{1} = 120 \\frac {Km}{Sec}\\cdot t$\n",
    "\n",
    "- $e_{2} = v_{2}\\cdot t => e_{2} = 150 \\frac {Km}{Sec}\\cdot t$\n",
    "\n",
    " \n",
    " - $e_{1}+e_{2}= 540\\frac {Km}{Hs} =>$   $120\\cdot t +150\\cdot t = 540\\frac {Km}{Hs} =>$ $ t_{hs}= \\frac{540\\frac {Km}{Hs}}{270\\frac {Km}{Hs}} = 2 hs$  "
   ]
  },
  {
   "cell_type": "code",
   "execution_count": 1,
   "metadata": {},
   "outputs": [
    {
     "data": {
      "application/javascript": [
       "if (typeof Jupyter !== \"undefined\") {require.undef(\"nbextensions/vpython_libraries/glow.min\");}else{element.textContent = ' ';}"
      ],
      "text/plain": [
       "<IPython.core.display.Javascript object>"
      ]
     },
     "metadata": {},
     "output_type": "display_data"
    },
    {
     "data": {
      "application/javascript": [
       "if (typeof Jupyter !== \"undefined\") {require.undef(\"nbextensions/vpython_libraries/glowcomm\");}else{element.textContent = ' ';}"
      ],
      "text/plain": [
       "<IPython.core.display.Javascript object>"
      ]
     },
     "metadata": {},
     "output_type": "display_data"
    },
    {
     "data": {
      "application/javascript": [
       "if (typeof Jupyter !== \"undefined\") {require.undef(\"nbextensions/vpython_libraries/jquery-ui.custom.min\");}else{element.textContent = ' ';}"
      ],
      "text/plain": [
       "<IPython.core.display.Javascript object>"
      ]
     },
     "metadata": {},
     "output_type": "display_data"
    },
    {
     "data": {
      "application/javascript": [
       "if (typeof Jupyter !== \"undefined\") {require([\"nbextensions/vpython_libraries/glow.min\"], function(){console.log(\"GLOW LOADED\");});}else{element.textContent = ' ';}"
      ],
      "text/plain": [
       "<IPython.core.display.Javascript object>"
      ]
     },
     "metadata": {},
     "output_type": "display_data"
    },
    {
     "data": {
      "application/javascript": [
       "if (typeof Jupyter !== \"undefined\") {require([\"nbextensions/vpython_libraries/glowcomm\"], function(){console.log(\"GLOWCOMM LOADED\");});}else{element.textContent = ' ';}"
      ],
      "text/plain": [
       "<IPython.core.display.Javascript object>"
      ]
     },
     "metadata": {},
     "output_type": "display_data"
    },
    {
     "data": {
      "application/javascript": [
       "if (typeof Jupyter !== \"undefined\") {require([\"nbextensions/vpython_libraries/jquery-ui.custom.min\"], function(){console.log(\"JQUERY LOADED\");});}else{element.textContent = ' ';}"
      ],
      "text/plain": [
       "<IPython.core.display.Javascript object>"
      ]
     },
     "metadata": {},
     "output_type": "display_data"
    },
    {
     "data": {
      "text/html": [
       "<div id=\"glowscript\" class=\"glowscript\"></div>"
      ],
      "text/plain": [
       "<IPython.core.display.HTML object>"
      ]
     },
     "metadata": {},
     "output_type": "display_data"
    },
    {
     "data": {
      "application/javascript": [
       "if (typeof Jupyter !== \"undefined\") { window.__context = { glowscript_container: $(\"#glowscript\").removeAttr(\"id\")};}else{ element.textContent = ' ';}"
      ],
      "text/plain": [
       "<IPython.core.display.Javascript object>"
      ]
     },
     "metadata": {},
     "output_type": "display_data"
    },
    {
     "data": {
      "text/html": [
       "<div id=\"glowscript\" class=\"glowscript\"></div>"
      ],
      "text/plain": [
       "<IPython.core.display.HTML object>"
      ]
     },
     "metadata": {},
     "output_type": "display_data"
    },
    {
     "data": {
      "application/javascript": [
       "if (typeof Jupyter !== \"undefined\") { window.__context = { glowscript_container: $(\"#glowscript\").removeAttr(\"id\")};}else{ element.textContent = ' ';}"
      ],
      "text/plain": [
       "<IPython.core.display.Javascript object>"
      ]
     },
     "metadata": {},
     "output_type": "display_data"
    }
   ],
   "source": [
    "from vpython import *\n",
    "#-- v = e / t\n",
    "v_1 = 120\n",
    "v_2 = 150\n",
    "t = 2\n",
    "e1 = v_1 * t \n",
    "e2 = v_2 * t\n",
    "#Escene\n",
    "canvas(title='Exercise 1',width=600, height=300,center=vector(0,0,0),background=color.black)\n",
    "\n",
    "#create objects\n",
    "x_0 = sphere(pos=vector(-30,0,0), radius=0.5, color = color.green)\n",
    "Labx00 = label(pos=x_0.pos,text='Start', xoffset=0,yoffset=50, space=20,\n",
    "    height=16, border=4,\n",
    "    font='sans')\n",
    "\n",
    "x_1 = sphere(pos=vector(-20,0,0), radius=0.5, color = color.white)\n",
    "Labx11 = label(pos=x_1.pos,text='100 Km', xoffset=0,yoffset=50, space=20,\n",
    "    height=16, border=4,\n",
    "    font='sans')\n",
    "x_2 = sphere(pos=vector(-10,0,0), radius=0.5, color = color.white)\n",
    "Labx20 = label(pos=x_2.pos,text='200 Km', xoffset=0,yoffset=50, space=20,\n",
    "    height=16, border=4,\n",
    "    font='sans')\n",
    "x_002 = sphere(pos=vector(-3.5,0,0), radius=0.5, color = color.red)\n",
    "\n",
    "x_3 = sphere(pos=vector(0,0,0), radius=0.5, color = color.white) \n",
    "Labx31 = label(pos=x_3.pos,text='300 Km', xoffset=0,yoffset=-50, space=20,\n",
    "    height=16, border=4,\n",
    "    font='sans')\n",
    "x_4 = sphere(pos=vector(10,0,0), radius=0.5, color = color.white)\n",
    "Labx40 = label(pos=x_4.pos,text='200 Km', xoffset=0,yoffset=-50, space=20,\n",
    "    height=16, border=4,\n",
    "    font='sans')\n",
    "x_5 = sphere(pos=vector(20,0,0), radius=0.5, color = color.white)\n",
    "Labx50 = label(pos=x_5.pos,text='100 Km', xoffset=0,yoffset=-50, space=20,\n",
    "    height=16, border=4,\n",
    "    font='sans')\n",
    "x_6 = sphere(pos=vector(30,0,0), radius=0.5, color = color.yellow)\n",
    "Labx6 = label(pos=x_6.pos,text='Start', xoffset=0,yoffset=-50, space=20,\n",
    "    height=16, border=4,\n",
    "    font='sans')\n",
    "\n",
    "car = box(pos=vector(-30,0,0), radius=30, color = color.green,make_trail = True,\n",
    "          trail_type=\"points\")\n",
    "\n",
    "Lab1 = label(pos=car.pos,text='Car', xoffset=0,yoffset=50, space=20,\n",
    "    height=16, border=4,\n",
    "    font='sans')\n",
    "train = box(pos=vector(30,0,0), radius=30, color = color.yellow,make_trail = True,\n",
    "          trail_type=\"points\")\n",
    "\n",
    "Lab202 = label(pos=train.pos,text='Train', xoffset=0,yoffset=50, space=20,\n",
    "    height=16, border=4,\n",
    "    font='sans')\n",
    "\n",
    "# -- Creamos un vector de posición --\n",
    "carv= vector(0.12,0,0)\n",
    "trainv= vector(-0.15,0,0)\n",
    "\n",
    "k = 20\n",
    "for i in range(130):\n",
    "    rate(t*k)\n",
    "    \n",
    "    car.pos = car.pos + carv\n",
    "    Lab1.pos = Lab1.pos + carv \n",
    "    train.pos = train.pos + trainv\n",
    "    Lab202.pos = Lab202.pos + trainv  \n",
    "    \n",
    "    car.pos += carv\n",
    "    Lab1.pos+=carv\n",
    "    train.pos += trainv\n",
    "    Lab202.pos+=trainv\n",
    "\n",
    "    "
   ]
  },
  {
   "cell_type": "markdown",
   "metadata": {},
   "source": [
    "#### Exercise 2\n",
    "A plane goes at a speed v for 8 sec, travelling a distance e; then it increases its speed by 8 m/s; travelling the same distance in 7 sec, find v.\n",
    "\n",
    "<b>Res:</b>: \n",
    "- $v_{1} = ? $  ;  $e = ? $  ;   $t_{1} = 8\\sec $ \n",
    "\n",
    "- $v_{2} = v+8 \\frac {m}{s}$  ;  $e = ? m$ ;   $t_{2} = 7\\sec $ \n",
    "\n",
    "Section 1\n",
    "\n",
    "- $e = v \\cdot t => e = v \\cdot 8\\sec$   \n",
    "\n",
    "Section 2\n",
    "\n",
    "- $e = v \\cdot t => e = (v + 8) \\cdot 7\\sec => 7v + 56$ \n",
    "\n",
    "Section 3\n",
    "\n",
    "- $e = e => e =(v+8)$ \n",
    "\n",
    "- $(v+8) = 7v + 56$   \n",
    "  $8v -7 v = 56$    \n",
    "  $v = 56\\frac {m}{s}$ \n"
   ]
  },
  {
   "cell_type": "code",
   "execution_count": 2,
   "metadata": {},
   "outputs": [
    {
     "data": {
      "text/html": [
       "<div id=\"glowscript\" class=\"glowscript\"></div>"
      ],
      "text/plain": [
       "<IPython.core.display.HTML object>"
      ]
     },
     "metadata": {},
     "output_type": "display_data"
    },
    {
     "data": {
      "application/javascript": [
       "if (typeof Jupyter !== \"undefined\") { window.__context = { glowscript_container: $(\"#glowscript\").removeAttr(\"id\")};}else{ element.textContent = ' ';}"
      ],
      "text/plain": [
       "<IPython.core.display.Javascript object>"
      ]
     },
     "metadata": {},
     "output_type": "display_data"
    }
   ],
   "source": [
    "from vpython import *\n",
    "v1 = 56; v2 = v1 +8\n",
    "t1 = 8;t2 = 7\n",
    "e1 = v1 * t1 \n",
    "e2 = (v2) * t2\n",
    "e11 = int(float(e1/20)) # Escala 1:20\n",
    "e12 = int(float(e2/20)) # Escala 1:20\n",
    "\n",
    "#Escene\n",
    "canvas(title='Exercise 2',width=600, height=300,center=vector(0,0,0),background=color.black)\n",
    "\n",
    "#create objects\n",
    "\n",
    "\n",
    "x_01 = sphere(pos=vector(-30,5,0), radius=0.5, color = color.green)\n",
    "Labx00 = label(pos=x_01.pos,text='Start', xoffset=0,yoffset=50, space=20,\n",
    "    height=16, border=4,\n",
    "    font='sans')\n",
    "x_1 = sphere(pos=vector(-20,0,0), radius=0.5, color = color.white)\n",
    "Labx11 = label(pos=x_1.pos,text='100m', xoffset=0,yoffset=-50, space=20,\n",
    "    height=10, border=4,\n",
    "    font='sans')\n",
    "x_2 = sphere(pos=vector(-10,0,0), radius=0.5, color = color.white)\n",
    "Labx20 = label(pos=x_2.pos,text='200m', xoffset=0,yoffset=-50, space=20,\n",
    "    height=10, border=4,\n",
    "    font='sans')\n",
    "x_02 = sphere(pos=vector(-6,5,0), radius=0.5, color = color.red)\n",
    "Labx20 = label(pos=x_02.pos,text='e1', xoffset=0,yoffset=-50, space=20,\n",
    "    height=16, border=4,\n",
    "    font='sans')\n",
    "x_3 = sphere(pos=vector(0,0,0), radius=0.5, color = color.white) \n",
    "Labx31 = label(pos=x_3.pos,text='300m', xoffset=0,yoffset=-50, space=20,\n",
    "    height=10, border=4,\n",
    "    font='sans')\n",
    "x_4 = sphere(pos=vector(10,0,0), radius=0.5, color = color.white)\n",
    "Labx40 = label(pos=x_4.pos,text='400m', xoffset=0,yoffset=-50, space=20,\n",
    "    height=10, border=4,\n",
    "    font='sans')\n",
    "x_4 = sphere(pos=vector(19.16,5,0), radius=0.5, color = color.red)\n",
    "Labx04 = label(pos=x_4.pos,text='e2', xoffset=0,yoffset=-50, space=20,\n",
    "    height=16, border=4,\n",
    "    font='sans')\n",
    "\n",
    "car = box(pos=vector(-30,5,0), radius=30, color = color.green,make_trail = True,\n",
    "          trail_type=\"points\")\n",
    "\n",
    "Lab1 = label(pos=car.pos,text='Plane', xoffset=0,yoffset=50, space=20,\n",
    "    height=16, border=4,\n",
    "    font='sans')\n",
    "\n",
    "# -- Creamos un vector de posición --\n",
    "carv= vector(0.56,0,0)\n",
    "\n",
    "k = 5\n",
    "    \n",
    "for i in range(e11+e12):\n",
    "    rate(k)\n",
    "    \n",
    "    \n",
    "    car.pos = car.pos + carv\n",
    "    Lab1.pos = Lab1.pos + carv \n",
    "    \n",
    "    car.pos += carv\n",
    "    Lab1.pos+=carv\n",
    "    \n",
    "       \n",
    "   \n"
   ]
  },
  {
   "cell_type": "code",
   "execution_count": null,
   "metadata": {},
   "outputs": [],
   "source": []
  },
  {
   "cell_type": "code",
   "execution_count": null,
   "metadata": {},
   "outputs": [],
   "source": []
  }
 ],
 "metadata": {
  "kernelspec": {
   "display_name": "VPython",
   "language": "python",
   "name": "vpython"
  },
  "language_info": {
   "codemirror_mode": {
    "name": "ipython",
    "version": 3
   },
   "file_extension": ".py",
   "mimetype": "text/x-python",
   "name": "python",
   "nbconvert_exporter": "python",
   "pygments_lexer": "ipython3",
   "version": "3.7.0"
  }
 },
 "nbformat": 4,
 "nbformat_minor": 2
}
