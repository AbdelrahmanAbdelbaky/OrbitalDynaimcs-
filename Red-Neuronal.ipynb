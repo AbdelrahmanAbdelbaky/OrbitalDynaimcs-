{
 "cells": [
  {
   "cell_type": "code",
   "execution_count": 1,
   "metadata": {
    "colab": {},
    "colab_type": "code",
    "id": "cxbCISvEdV2O"
   },
   "outputs": [],
   "source": [
    "# 16/11/2k18 - Projecto Red Neuronal - Programador: Carlos Prado\n",
    "# Objetivo de estudio : Visualizar una solución de los datos.\n",
    "# Construcción de una red neuronal.\n",
    "# Conseguir que nuestra red neuronal separe en 2 clases diferentes los datos.\n",
    "import numpy as np\n",
    "import scipy as sc\n",
    "import matplotlib.pyplot as plt\n",
    "\n",
    "from sklearn.datasets import make_circles"
   ]
  },
  {
   "cell_type": "code",
   "execution_count": 2,
   "metadata": {
    "colab": {
     "base_uri": "https://localhost:8080/",
     "height": 347
    },
    "colab_type": "code",
    "executionInfo": {
     "elapsed": 737,
     "status": "ok",
     "timestamp": 1542390601907,
     "user": {
      "displayName": "Carlos Prado",
      "photoUrl": "",
      "userId": "04384481089642725978"
     },
     "user_tz": 180
    },
    "id": "CvL6R38oeBSz",
    "outputId": "a79bbd5e-2cb2-4dd7-fae3-43b3c8154e9a"
   },
   "outputs": [
    {
     "data": {
      "image/png": "[encoded data removed]",
      "text/plain": [
       "<Figure size 432x288 with 1 Axes>"
      ]
     },
     "metadata": {
      "needs_background": "light"
     },
     "output_type": "display_data"
    }
   ],
   "source": [
    "# CREAR EL DATASET\n",
    "\n",
    "n = 500\n",
    "p = 2\n",
    "\n",
    "X, Y = make_circles(n_samples=n, factor=0.5, noise=0.05)\n",
    "\n",
    "Y = Y[:, np.newaxis]\n",
    "\n",
    "plt.scatter(X[Y[:, 0] == 0, 0], X[Y[:, 0] == 0, 1], c=\"skyblue\")\n",
    "plt.scatter(X[Y[:, 0] == 1, 0], X[Y[:, 0] == 1, 1], c=\"salmon\")\n",
    "plt.axis(\"equal\")\n",
    "plt.show()"
   ]
  },
  {
   "cell_type": "code",
   "execution_count": 3,
   "metadata": {
    "colab": {},
    "colab_type": "code",
    "id": "-G_PNdsh0mq1"
   },
   "outputs": [],
   "source": [
    "# CLASE DE LA CAPA DE LA RED\n",
    "\n",
    "class neural_layer():\n",
    " \n",
    "  def __init__(self, n_conn, n_neur, act_f):\n",
    "    \n",
    "    self.act_f = act_f\n",
    "    \n",
    "    self.b = np.random.rand(1, n_neur)      * 2 - 1\n",
    "    self.W = np.random.rand(n_conn, n_neur) * 2 - 1\n",
    "    "
   ]
  },
  {
   "cell_type": "code",
   "execution_count": 9,
   "metadata": {
    "colab": {
     "base_uri": "https://localhost:8080/",
     "height": 364
    },
    "colab_type": "code",
    "executionInfo": {
     "elapsed": 1022,
     "status": "ok",
     "timestamp": 1542401785894,
     "user": {
      "displayName": "Carlos Prado",
      "photoUrl": "",
      "userId": "04384481089642725978"
     },
     "user_tz": 180
    },
    "id": "NKKWBSW0oLbc",
    "outputId": "a3b35105-b567-48c3-e665-87334bf8eb3e"
   },
   "outputs": [
    {
     "data": {
      "text/plain": [
       "[<matplotlib.lines.Line2D at 0x1c9dceea0f0>]"
      ]
     },
     "execution_count": 9,
     "metadata": {},
     "output_type": "execute_result"
    },
    {
     "data": {
      "image/png": "[encoded data removed]",
      "text/plain": [
       "<Figure size 432x288 with 1 Axes>"
      ]
     },
     "metadata": {
      "needs_background": "light"
     },
     "output_type": "display_data"
    }
   ],
   "source": [
    "# FUNCIONES DE ACTIVACION\n",
    "\n",
    "sigm = (lambda x: 1 / (1 + np.e ** (-x)),\n",
    "        lambda x: x * (1 - x))\n",
    "\n",
    "relu = lambda x: np.maximum(0, x)\n",
    "\n",
    "_x = np.linspace(-5, 5, 100)\n",
    "plt.plot(_x, relu(_x))"
   ]
  },
  {
   "cell_type": "code",
   "execution_count": 10,
   "metadata": {
    "colab": {},
    "colab_type": "code",
    "id": "-dLay5v6O9s4"
   },
   "outputs": [],
   "source": [
    "# CREAMOS LA RED NEURONAL\n",
    "\n",
    "l0 = neural_layer(p, 4, sigm)\n",
    "l1 = neural_layer(4, 8, sigm)\n",
    "# ...\n",
    "\n",
    "def create_nn(topology, act_f):\n",
    "  \n",
    "  nn = []\n",
    "  \n",
    "  for l, layer in enumerate(topology[:-1]):\n",
    "    \n",
    "    nn.append(neural_layer(topology[l], topology[l+1], act_f))\n",
    "    \n",
    "  return nn"
   ]
  },
  {
   "cell_type": "code",
   "execution_count": 11,
   "metadata": {
    "colab": {
     "base_uri": "https://localhost:8080/",
     "height": 68
    },
    "colab_type": "code",
    "executionInfo": {
     "elapsed": 694,
     "status": "ok",
     "timestamp": 1542391288502,
     "user": {
      "displayName": "Carlos Prado",
      "photoUrl": "",
      "userId": "04384481089642725978"
     },
     "user_tz": 180
    },
    "id": "CFYMp5IRnA3C",
    "outputId": "43016e6f-71cd-4d2f-c3af-9d810a1a7a4d"
   },
   "outputs": [
    {
     "data": {
      "text/plain": [
       "[<__main__.neural_layer at 0x1c9dd09ccc0>,\n",
       " <__main__.neural_layer at 0x1c9dd09cba8>,\n",
       " <__main__.neural_layer at 0x1c9dd09c438>]"
      ]
     },
     "execution_count": 11,
     "metadata": {},
     "output_type": "execute_result"
    }
   ],
   "source": [
    "#prueba de ejecución (OK)\n",
    "create_nn(topology, sigm)\n"
   ]
  },
  {
   "cell_type": "code",
   "execution_count": 6,
   "metadata": {
    "colab": {
     "base_uri": "https://localhost:8080/",
     "height": 34
    },
    "colab_type": "code",
    "executionInfo": {
     "elapsed": 634,
     "status": "ok",
     "timestamp": 1542397421957,
     "user": {
      "displayName": "Carlos Prado",
      "photoUrl": "",
      "userId": "04384481089642725978"
     },
     "user_tz": 180
    },
    "id": "nhuAPjJDp1BC",
    "outputId": "f24de6c6-1fd7-413c-c8c6-34eb714dd812"
   },
   "outputs": [
    {
     "ename": "NameError",
     "evalue": "name 'create_nn' is not defined",
     "output_type": "error",
     "traceback": [
      "\u001b[1;31m---------------------------------------------------------------------------\u001b[0m",
      "\u001b[1;31mNameError\u001b[0m                                 Traceback (most recent call last)",
      "\u001b[1;32m<ipython-input-6-93d00c494b0b>\u001b[0m in \u001b[0;36m<module>\u001b[1;34m()\u001b[0m\n\u001b[0;32m      3\u001b[0m \u001b[0mtopology\u001b[0m \u001b[1;33m=\u001b[0m \u001b[1;33m[\u001b[0m\u001b[0mp\u001b[0m\u001b[1;33m,\u001b[0m \u001b[1;36m4\u001b[0m\u001b[1;33m,\u001b[0m \u001b[1;36m8\u001b[0m\u001b[1;33m,\u001b[0m \u001b[1;36m1\u001b[0m\u001b[1;33m]\u001b[0m\u001b[1;33m\u001b[0m\u001b[0m\n\u001b[0;32m      4\u001b[0m \u001b[1;33m\u001b[0m\u001b[0m\n\u001b[1;32m----> 5\u001b[1;33m \u001b[0mneural_net\u001b[0m \u001b[1;33m=\u001b[0m \u001b[0mcreate_nn\u001b[0m\u001b[1;33m(\u001b[0m\u001b[0mtopology\u001b[0m\u001b[1;33m,\u001b[0m \u001b[0msigm\u001b[0m\u001b[1;33m)\u001b[0m\u001b[1;33m\u001b[0m\u001b[0m\n\u001b[0m\u001b[0;32m      6\u001b[0m \u001b[1;33m\u001b[0m\u001b[0m\n\u001b[0;32m      7\u001b[0m l2_cost = (lambda Yp, Yr: np.mean((Yp - Yr) ** 2),\n",
      "\u001b[1;31mNameError\u001b[0m: name 'create_nn' is not defined"
     ]
    }
   ],
   "source": [
    "# FUNCION DE ENTRENAMIENTO\n",
    "\n",
    "topology = [p, 4, 8, 1]\n",
    "\n",
    "neural_net = create_nn(topology, sigm)  \n",
    "\n",
    "l2_cost = (lambda Yp, Yr: np.mean((Yp - Yr) ** 2),\n",
    "           lambda Yp, Yr: (Yp - Yr))\n",
    "\n",
    "\n",
    "\n",
    "def train(neural_net, X, Y, l2_cost, lr=0.5, train=True):\n",
    "  \n",
    "  out = [(None, X)]\n",
    "  \n",
    "  # Forward pass\n",
    "  for l, layer in enumerate(neural_net):\n",
    "  \n",
    "    z = out[-1][1] @ neural_net[l].W + neural_net[l].b\n",
    "    a = neural_net[l].act_f[0](z)\n",
    "  \n",
    "    out.append((z, a))\n",
    "    \n",
    "  \n",
    "  if train:\n",
    "    \n",
    "    # Backward pass \n",
    "    deltas = []\n",
    "    \n",
    "    for l in reversed(range(0, len(neural_net))):\n",
    "      \n",
    "      z = out[l+1][0]\n",
    "      a = out[l+1][1]\n",
    "      \n",
    "      if l == len(neural_net) - 1:\n",
    "        deltas.insert(0, l2_cost[1](a, Y) * neural_net[l].act_f[1](a))\n",
    "      else:\n",
    "        deltas.insert(0, deltas[0] @ _W.T * neural_net[l].act_f[1](a))\n",
    "       \n",
    "      _W = neural_net[l].W\n",
    " \n",
    "      # Gradient descent\n",
    "      neural_net[l].b = neural_net[l].b - np.mean(deltas[0], axis=0, keepdims=True) * lr   \n",
    "      neural_net[l].W = neural_net[l].W - out[l][1].T @ deltas[0] * lr\n",
    "      \n",
    "  return out[-1][1]\n",
    "  \n",
    "  \n",
    "train(neural_net, X, Y, l2_cost, 0.5)\n",
    "print(\"\")"
   ]
  },
  {
   "cell_type": "code",
   "execution_count": 13,
   "metadata": {
    "colab": {
     "base_uri": "https://localhost:8080/",
     "height": 681
    },
    "colab_type": "code",
    "executionInfo": {
     "elapsed": 572,
     "status": "ok",
     "timestamp": 1542400876353,
     "user": {
      "displayName": "Carlos Prado",
      "photoUrl": "",
      "userId": "04384481089642725978"
     },
     "user_tz": 180
    },
    "id": "sr2jzPXYDOaA",
    "outputId": "122af231-001b-411a-c3f7-e475959e3d04"
   },
   "outputs": [
    {
     "ename": "NameError",
     "evalue": "name 'train' is not defined",
     "output_type": "error",
     "traceback": [
      "\u001b[1;31m---------------------------------------------------------------------------\u001b[0m",
      "\u001b[1;31mNameError\u001b[0m                                 Traceback (most recent call last)",
      "\u001b[1;32m<ipython-input-13-61914d14c90c>\u001b[0m in \u001b[0;36m<module>\u001b[1;34m()\u001b[0m\n\u001b[0;32m     11\u001b[0m \u001b[1;33m\u001b[0m\u001b[0m\n\u001b[0;32m     12\u001b[0m   \u001b[1;31m# Entrenemos a la red!\u001b[0m\u001b[1;33m\u001b[0m\u001b[1;33m\u001b[0m\u001b[0m\n\u001b[1;32m---> 13\u001b[1;33m   \u001b[0mpY\u001b[0m \u001b[1;33m=\u001b[0m \u001b[0mtrain\u001b[0m\u001b[1;33m(\u001b[0m\u001b[0mneural_n\u001b[0m\u001b[1;33m,\u001b[0m \u001b[0mX\u001b[0m\u001b[1;33m,\u001b[0m \u001b[0mY\u001b[0m\u001b[1;33m,\u001b[0m \u001b[0ml2_cost\u001b[0m\u001b[1;33m,\u001b[0m \u001b[0mlr\u001b[0m\u001b[1;33m=\u001b[0m\u001b[1;36m0.05\u001b[0m\u001b[1;33m)\u001b[0m\u001b[1;33m\u001b[0m\u001b[0m\n\u001b[0m\u001b[0;32m     14\u001b[0m \u001b[1;33m\u001b[0m\u001b[0m\n\u001b[0;32m     15\u001b[0m   \u001b[1;32mif\u001b[0m \u001b[0mi\u001b[0m \u001b[1;33m%\u001b[0m \u001b[1;36m25\u001b[0m \u001b[1;33m==\u001b[0m \u001b[1;36m0\u001b[0m\u001b[1;33m:\u001b[0m\u001b[1;33m\u001b[0m\u001b[0m\n",
      "\u001b[1;31mNameError\u001b[0m: name 'train' is not defined"
     ]
    }
   ],
   "source": [
    "# VISUALIZACIÓN Y TEST\n",
    "\n",
    "import time\n",
    "from IPython.display import clear_output\n",
    "\n",
    "neural_n = create_nn(topology, sigm)\n",
    "\n",
    "loss = []\n",
    "\n",
    "for i in range(2500):\n",
    "    \n",
    "  # Entrenemos a la red!\n",
    "  pY = train(neural_n, X, Y, l2_cost, lr=0.05)\n",
    "  \n",
    "  if i % 25 == 0:\n",
    "    \n",
    "    print(pY)\n",
    "  \n",
    "    loss.append(l2_cost[0](pY, Y))\n",
    "  \n",
    "    res = 50\n",
    "\n",
    "    _x0 = np.linspace(-1.5, 1.5, res)\n",
    "    _x1 = np.linspace(-1.5, 1.5, res)\n",
    "\n",
    "    _Y = np.zeros((res, res))\n",
    "\n",
    "    for i0, x0 in enumerate(_x0):\n",
    "      for i1, x1 in enumerate(_x1):\n",
    "        _Y[i0, i1] = train(neural_n, np.array([[x0, x1]]), Y, l2_cost, train=False)[0][0]    \n",
    "\n",
    "    plt.pcolormesh(_x0, _x1, _Y, cmap=\"plasma\")\n",
    "    plt.axis(\"equal\")\n",
    "\n",
    "    plt.scatter(X[Y[:,0] == 0, 0], X[Y[:,0] == 0, 1], c=\"white\")\n",
    "    plt.scatter(X[Y[:,0] == 1, 0], X[Y[:,0] == 1, 1], c=\"salmon\")\n",
    "\n",
    "    clear_output(wait=True)\n",
    "    plt.show()\n",
    "    plt.plot(range(len(loss)), loss)\n",
    "    plt.show()\n",
    "    time.sleep(0.5)  \n",
    "    "
   ]
  },
  {
   "cell_type": "code",
   "execution_count": 0,
   "metadata": {
    "colab": {},
    "colab_type": "code",
    "id": "_u17D-NdDeO_"
   },
   "outputs": [],
   "source": [
    "   "
   ]
  }
 ],
 "metadata": {
  "colab": {
   "collapsed_sections": [],
   "name": "Red-Neuronal.ipynb",
   "provenance": [],
   "version": "0.3.2"
  },
  "kernelspec": {
   "display_name": "Python 3",
   "language": "python",
   "name": "python3"
  },
  "language_info": {
   "codemirror_mode": {
    "name": "ipython",
    "version": 3
   },
   "file_extension": ".py",
   "mimetype": "text/x-python",
   "name": "python",
   "nbconvert_exporter": "python",
   "pygments_lexer": "ipython3",
   "version": "3.7.0"
  }
 },
 "nbformat": 4,
 "nbformat_minor": 1
}
