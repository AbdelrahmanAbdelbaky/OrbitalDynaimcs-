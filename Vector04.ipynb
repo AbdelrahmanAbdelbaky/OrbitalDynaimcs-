{
 "cells": [
  {
   "cell_type": "markdown",
   "metadata": {},
   "source": [
    "# Physics Practice - Vectors\n",
    "## Exercises \n",
    "Programmer: Carlos Prado.  \n",
    "#### Sum of vectors by rectangular components.\n",
    "Tutorial: https://www.youtube.com/watch?v=VZumn8dZ8ew&list=PL3KGq8pH1bFS0lr5NfcXXgSxh4CGQqY-i&index=9  \n"
   ]
  },
  {
   "cell_type": "markdown",
   "metadata": {},
   "source": [
    "### 3) - Find the module: \n",
    "$|\\vec B|=3$   \n",
    "$\\theta = 37°$\n",
    "### Sum of vectors by rectangular components.\n",
    "$\\cos(\\theta ) = \\frac{|\\vec Bx|}{|\\vec B|}$  =>$|\\vec B|\\cos(37°) =|\\vec Bx|$ =>$|\\vec Bx| = 3\\cos(37°)$  =>$|\\vec Bx|\\simeq 2.4$   \n",
    "\n",
    "$\\sin(\\theta ) = \\frac{|\\vec By|}{|\\vec B|}$  =>$|\\vec B|\\sin(37°) =|\\vec By|$ =>$|\\vec By| = 3\\sin(37°)$  =>$|\\vec By|\\simeq 1.8$"
   ]
  },
  {
   "cell_type": "code",
   "execution_count": 1,
   "metadata": {},
   "outputs": [
    {
     "data": {
      "application/javascript": [
       "if (typeof Jupyter !== \"undefined\") {require.undef(\"nbextensions/vpython_libraries/glow.min\");}else{element.textContent = ' ';}"
      ],
      "text/plain": [
       "<IPython.core.display.Javascript object>"
      ]
     },
     "metadata": {},
     "output_type": "display_data"
    },
    {
     "data": {
      "application/javascript": [
       "if (typeof Jupyter !== \"undefined\") {require.undef(\"nbextensions/vpython_libraries/glowcomm\");}else{element.textContent = ' ';}"
      ],
      "text/plain": [
       "<IPython.core.display.Javascript object>"
      ]
     },
     "metadata": {},
     "output_type": "display_data"
    },
    {
     "data": {
      "application/javascript": [
       "if (typeof Jupyter !== \"undefined\") {require.undef(\"nbextensions/vpython_libraries/jquery-ui.custom.min\");}else{element.textContent = ' ';}"
      ],
      "text/plain": [
       "<IPython.core.display.Javascript object>"
      ]
     },
     "metadata": {},
     "output_type": "display_data"
    },
    {
     "data": {
      "application/javascript": [
       "if (typeof Jupyter !== \"undefined\") {require([\"nbextensions/vpython_libraries/glow.min\"], function(){console.log(\"GLOW LOADED\");});}else{element.textContent = ' ';}"
      ],
      "text/plain": [
       "<IPython.core.display.Javascript object>"
      ]
     },
     "metadata": {},
     "output_type": "display_data"
    },
    {
     "data": {
      "application/javascript": [
       "if (typeof Jupyter !== \"undefined\") {require([\"nbextensions/vpython_libraries/glowcomm\"], function(){console.log(\"GLOWCOMM LOADED\");});}else{element.textContent = ' ';}"
      ],
      "text/plain": [
       "<IPython.core.display.Javascript object>"
      ]
     },
     "metadata": {},
     "output_type": "display_data"
    },
    {
     "data": {
      "application/javascript": [
       "if (typeof Jupyter !== \"undefined\") {require([\"nbextensions/vpython_libraries/jquery-ui.custom.min\"], function(){console.log(\"JQUERY LOADED\");});}else{element.textContent = ' ';}"
      ],
      "text/plain": [
       "<IPython.core.display.Javascript object>"
      ]
     },
     "metadata": {},
     "output_type": "display_data"
    },
    {
     "data": {
      "text/html": [
       "<div id=\"glowscript\" class=\"glowscript\"></div>"
      ],
      "text/plain": [
       "<IPython.core.display.HTML object>"
      ]
     },
     "metadata": {},
     "output_type": "display_data"
    },
    {
     "data": {
      "application/javascript": [
       "if (typeof Jupyter !== \"undefined\") { window.__context = { glowscript_container: $(\"#glowscript\").removeAttr(\"id\")};}else{ element.textContent = ' ';}"
      ],
      "text/plain": [
       "<IPython.core.display.Javascript object>"
      ]
     },
     "metadata": {},
     "output_type": "display_data"
    },
    {
     "data": {
      "text/html": [
       "<div id=\"glowscript\" class=\"glowscript\"></div>"
      ],
      "text/plain": [
       "<IPython.core.display.HTML object>"
      ]
     },
     "metadata": {},
     "output_type": "display_data"
    },
    {
     "data": {
      "application/javascript": [
       "if (typeof Jupyter !== \"undefined\") { window.__context = { glowscript_container: $(\"#glowscript\").removeAttr(\"id\")};}else{ element.textContent = ' ';}"
      ],
      "text/plain": [
       "<IPython.core.display.Javascript object>"
      ]
     },
     "metadata": {},
     "output_type": "display_data"
    },
    {
     "name": "stdout",
     "output_type": "stream",
     "text": [
      "Bx = 2.3959065301418785 ||By = 1.8054450694561448\n"
     ]
    }
   ],
   "source": [
    "#------Visualitation 3D in VPython------------#\n",
    "from vpython import *\n",
    "import math\n",
    "#Escene\n",
    "canvas(title='Exercise 4',width=300, height=200,center=vector(0,0,0), background=color.black)\n",
    "theta = 37 ;b= 3; \n",
    "#create objects\n",
    "B1=sphere(pos=vector(0,0,0), radius=0.3 , color=color.white)\n",
    "B2=sphere(pos=vector(3,b,0), radius=0.01 , color=color.red)\n",
    "#create vector\n",
    "F1=arrow(pos=B1.pos, axis=B2.pos-B1.pos, color=color.red)\n",
    "#mathematical calculations\n",
    "s = math.sin(math.radians(37)); c = math.cos(math.radians(37))\n",
    "Bx = b*c; By = b*s\n",
    "print(\"Bx =\",Bx,\"||By =\",By)"
   ]
  },
  {
   "cell_type": "code",
   "execution_count": null,
   "metadata": {},
   "outputs": [],
   "source": []
  }
 ],
 "metadata": {
  "kernelspec": {
   "display_name": "VPython",
   "language": "python",
   "name": "vpython"
  },
  "language_info": {
   "codemirror_mode": {
    "name": "ipython",
    "version": 3
   },
   "file_extension": ".py",
   "mimetype": "text/x-python",
   "name": "python",
   "nbconvert_exporter": "python",
   "pygments_lexer": "ipython3",
   "version": "3.7.0"
  }
 },
 "nbformat": 4,
 "nbformat_minor": 2
}
