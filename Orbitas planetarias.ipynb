{
 "cells": [
  {
   "cell_type": "code",
   "execution_count": null,
   "metadata": {},
   "outputs": [],
   "source": [
    "#------------------------------------------------------21/11/2018-------------------------------------------------------\n",
    "# Física para Videojuegos- The version of the notebook server is: 5.6.0\n",
    "# Cinemática - Entorno de Simulación - Python 3.7.0 (default, Jun 28 2018, 08:04:48) [MSC v.1912 64 bit (AMD64)]\n",
    "# Orbitas Planetarias (MCU) - Parte 02/03\n",
    "# Programmer: Carlos Prado\n",
    "# Objetivo: Estudiar e implementar código,formulas matemáticas y leyes físicas para el estudio de orbitas Circulares y elipticas.\n",
    "# Fuentes: https://www.fisicalab.com/apartado/gravedad-orbitas#contenidos\n",
    "# http://www.labri.fr/perso/nrougier/coding/gallery/\n",
    "#------------------------------------------------------------------------------------------------------------------------"
   ]
  },
  {
   "cell_type": "code",
   "execution_count": 22,
   "metadata": {},
   "outputs": [
    {
     "data": {
      "image/png": "[encoded data removed]",
      "text/plain": [
       "<Figure size 576x576 with 1 Axes>"
      ]
     },
     "metadata": {
      "needs_background": "light"
     },
     "output_type": "display_data"
    }
   ],
   "source": [
    "###########################################\n",
    "# This code animates a N-body gravitational\n",
    "# interaction between planets.\n",
    "\n",
    "# Author: E. Paillas\n",
    "# E-mail: epaillas@astro.puc.cl\n",
    "# Website: www.enriquepaillas.com\n",
    "###########################################\n",
    "\n",
    "import numpy\n",
    "import math\n",
    "import pylab\n",
    "import matplotlib.animation as animation\n",
    "from matplotlib.font_manager import FontProperties\n",
    "\n",
    "G = 6.67428e-11 # Newton's gravitational constant\n",
    "AU = (149.6e6 * 1000) # Astronomical unit in metres\n",
    "timestep = 24 * 3600 # One day in seconds (timestep for the simulation)\n",
    "\n",
    "class planet(object):\n",
    "    \"\"\"\n",
    "    Planet class.\n",
    "    Contains information about the planet's\n",
    "    current position, velocity and mass\n",
    "    and other general information.\n",
    "    \"\"\"\n",
    "\n",
    "    def __init__(self):\n",
    "        self.px = 0.0\n",
    "        self.py = 0.0\n",
    "        self.vx = 0.0\n",
    "        self.vy = 0.0\n",
    "        self.mass = None\n",
    "        self.color = None\n",
    "        self.size = None\n",
    "        self.name = None\n",
    "\n",
    "    def compute_force(self, others):\n",
    "        \"\"\"\n",
    "        Compute the total exerted force on the\n",
    "        body at the current moment.\n",
    "        \"\"\"\n",
    "        self.total_fx = self.total_fy = 0.0\n",
    "        for other in others:\n",
    "            # Compute the distance of the other body.\n",
    "            sx, sy = self.px, self.py\n",
    "            ox, oy = other.px, other.py\n",
    "            dx = (ox-sx)\n",
    "            dy = (oy-sy)\n",
    "            d = numpy.sqrt(dx ** 2 + dy ** 2)\n",
    "\n",
    "            # Compute the force of attraction\n",
    "            f = G * self.mass * other.mass / (d ** 2)\n",
    "\n",
    "            # Compute the direction of the force.\n",
    "            theta = math.atan2(dy, dx)\n",
    "            fx = math.cos(theta) * f\n",
    "            fy = math.sin(theta) * f\n",
    "\n",
    "            # Add to the total force exerted on the planet\n",
    "            self.total_fx += fx\n",
    "            self.total_fy += fy\n",
    "\n",
    "    def update_position(self):\n",
    "        \"\"\"\n",
    "        Update particle velocity and position based on the\n",
    "        current exterted total force on the body.\n",
    "        \"\"\"\n",
    "        self.vx += self.total_fx / self.mass * timestep\n",
    "        self.vy += self.total_fy / self.mass * timestep\n",
    "        self.px += self.vx * timestep\n",
    "        self.py += self.vy * timestep\n",
    "\n",
    "def animate(i, bodies, lines):\n",
    "    \"\"\"\n",
    "    Animation function. Updates the\n",
    "    plot on each interation.\n",
    "    \"\"\"\n",
    "    for ind, body in enumerate(bodies):\n",
    "        body.compute_force(numpy.delete(bodies, ind))\n",
    "    for body in bodies:\n",
    "        body.update_position()\n",
    "    for i in range(len(bodies)):\n",
    "        lines[i].set_data(bodies[i].px / AU, bodies[i].py / AU)\n",
    "    return lines\n",
    "\n",
    "def main():\n",
    "    Sun = planet() # Instance of planet Sun\n",
    "    Earth = planet() # Instance of planet Earth\n",
    "    Venus = planet() # Instance of planet Venus\n",
    "\n",
    "    Sun.mass = 1.98892 * 10 ** 30\n",
    "    Sun.color = 'y'\n",
    "    Sun.size = 50\n",
    "    Sun.name = 'Sun'\n",
    "\n",
    "    Earth.mass = 5.9742 * 10 ** 24\n",
    "    Earth.px = -1 * AU\n",
    "    Earth.vy = 29.783 * 1000\n",
    "    Earth.color = 'b'\n",
    "    Earth.size = 5\n",
    "    Earth.name = 'Earth'\n",
    "\n",
    "    Venus.mass = 4.8685 * 10 ** 24\n",
    "    Venus.px = 0.723 * AU\n",
    "    Venus.vy = -35.02 * 1000\n",
    "    Venus.color = 'm'\n",
    "    Venus.size = 5\n",
    "    Venus.name = 'Venus'\n",
    "\n",
    "    bodies = [Sun, Earth, Venus]\n",
    "    lines = [None] * len(bodies)\n",
    "    fig = pylab.figure(figsize=(8,8))\n",
    "    ax = pylab.subplot()\n",
    "\n",
    "    for i in range(len(bodies)):\n",
    "        lines[i], = ax.plot(bodies[i].px / AU, bodies[i].py / AU,\n",
    "        marker='o', color=bodies[i].color, ms=bodies[i].size,\n",
    "        label=bodies[i].name)\n",
    "\n",
    "    ani = animation.FuncAnimation(fig, animate, numpy.arange(1, 500),\n",
    "        fargs=[bodies, lines], interval=20, blit=True, repeat=True)\n",
    "\n",
    "    ax.set_xlabel('x [AU]')\n",
    "    ax.set_ylabel('y [AU]')\n",
    "\n",
    "    ax.set_xlim(-1.2, 1.2)\n",
    "    ax.set_ylim(-1.2, 1.2)\n",
    "    legend = ax.legend(loc=9, bbox_to_anchor=(0.5, 1.1), ncol=3)\n",
    "    legend.legendHandles[0]._legmarker.set_markersize(6)\n",
    "\n",
    "    pylab.show()\n",
    "\n",
    "if __name__ == \"__main__\":\n",
    "    main()\n"
   ]
  },
  {
   "cell_type": "code",
   "execution_count": 21,
   "metadata": {},
   "outputs": [
    {
     "data": {
      "text/plain": [
       "<matplotlib.animation.FuncAnimation at 0x1da77b13630>"
      ]
     },
     "execution_count": 21,
     "metadata": {},
     "output_type": "execute_result"
    },
    {
     "data": {
      "image/png": "[encoded data removed]",
      "text/plain": [
       "<Figure size 432x288 with 1 Axes>"
      ]
     },
     "metadata": {
      "needs_background": "light"
     },
     "output_type": "display_data"
    }
   ],
   "source": [
    "plot(molniya, title='pendejo', animate=True)"
   ]
  },
  {
   "cell_type": "code",
   "execution_count": null,
   "metadata": {},
   "outputs": [],
   "source": []
  },
  {
   "cell_type": "code",
   "execution_count": null,
   "metadata": {},
   "outputs": [],
   "source": []
  }
 ],
 "metadata": {
  "kernelspec": {
   "display_name": "Python 3",
   "language": "python",
   "name": "python3"
  },
  "language_info": {
   "codemirror_mode": {
    "name": "ipython",
    "version": 3
   },
   "file_extension": ".py",
   "mimetype": "text/x-python",
   "name": "python",
   "nbconvert_exporter": "python",
   "pygments_lexer": "ipython3",
   "version": "3.7.0"
  }
 },
 "nbformat": 4,
 "nbformat_minor": 2
}
