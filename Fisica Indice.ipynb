{
 "cells": [
  {
   "cell_type": "markdown",
   "metadata": {},
   "source": [
    "# Física para Video Juegos\n",
    "#### Notebook índice \n",
    "<b>Programador:</b> Carlos Prado. - 1/10/2018  \n",
    "<b>Licencia Libre:</b> Creative Common\n",
    "#### Práctica de Física: Implementando lenguaje Latex científico y código de programación en Python\n",
    "- Librerias necesarias para poder visualizar correctamente el contenido : Matplotlib, Numpy, Math, VPython.\n",
    "- IDE: Jupyter - The version of the notebook server is: 5.6.0 \n",
    "- Python 3.7.0 (default, Jun 28 2018, 08:04:48)\n",
    "-----------------------------------------------------------------------------------------------------------------------------\n",
    "##### Contenido\n",
    "1 - Análisis Dimensional - 1/12/2018\n",
    "\n",
    "2 - Vectores - 5/12/2018\n",
    "- Método gráfico  -  Cabeza y cola  -  Método del paralelogramo\n",
    "- Método de la resultante:   $R =\\sqrt{a^2 + b^2 + 2 a b\\cos(\\theta)}$\n",
    "- Teorema de pitágoras:   $h^2 = a^2 + b^2$\n",
    "- Ley de senos:   $\\frac {a} {\\sin A} = \\frac {b} {\\sin B} = \\frac {c} {\\sin C}$\n",
    "- Método por descomposición\n",
    "   \n",
    "3 - MRU - 20/11/2018:  \n",
    "- $e = v \\cdot t$   \n",
    "- $t =\\frac{e}{v}$   \n",
    "- $v =\\frac{e}{t}$   \n",
    "\n",
    "4 - Caída libre     \n",
    "5    \n",
    "6    \n",
    "7    \n",
    "8 - Ley de newton - 11/2018     \n",
    "9 - Leyes de kepler - 11/2018     \n",
    "10 - Movimiento circular - 11/2018    \n",
    "11 - Movimiento eliptico - 11/2018     \n",
    "12 - Gravitación universal - 11/2018     \n"
   ]
  },
  {
   "cell_type": "code",
   "execution_count": null,
   "metadata": {},
   "outputs": [],
   "source": []
  }
 ],
 "metadata": {
  "kernelspec": {
   "display_name": "VPython",
   "language": "python",
   "name": "vpython"
  },
  "language_info": {
   "codemirror_mode": {
    "name": "ipython",
    "version": 3
   },
   "file_extension": ".py",
   "mimetype": "text/x-python",
   "name": "python",
   "nbconvert_exporter": "python",
   "pygments_lexer": "ipython3",
   "version": "3.7.0"
  }
 },
 "nbformat": 4,
 "nbformat_minor": 2
}
