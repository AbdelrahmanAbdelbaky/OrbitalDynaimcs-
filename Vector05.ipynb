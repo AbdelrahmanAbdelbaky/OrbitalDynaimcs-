{
 "cells": [
  {
   "cell_type": "markdown",
   "metadata": {},
   "source": [
    "# Physics Practice - Vectors\n",
    "#### Notebook 5/5 - Sum of vectors \n",
    "<b>Programmer:</b> Carlos Prado. - 11/12/2018  \n",
    "<b>Objective:</b> To review vectors,learn the Latex language and implement the code in Python"
   ]
  },
  {
   "cell_type": "markdown",
   "metadata": {},
   "source": [
    "### 5) - Find $|\\vec Rt|$\n",
    "$|\\vec A|=10$  ;$|\\vec B|=20$   \n",
    "$\\theta = 37°$  ;$\\alpha = 37°$  \n",
    "### Sum of vectors by rectangular components.\n",
    "$\\cos(\\theta ) = \\frac{|\\vec Ax|}{|\\vec A|}$  =>$|\\vec A|\\cos(37°) =|\\vec Ax|$ =>$|\\vec Ax| = 10\\cos(37°)$  =>$|\\vec Ax|\\simeq 8$   \n",
    "\n",
    "$\\sin(\\theta ) = \\frac{|\\vec Ay|}{|\\vec A|}$  =>$|\\vec A|\\sin(37°) =|\\vec Ay|$ =>$|\\vec Ay| = 10\\sin(37°)$  =>$|\\vec Ay|\\simeq 6$  \n",
    "\n",
    "$\\cos(\\alpha ) = \\frac{|\\vec Bx|}{|\\vec B|}$  =>$|\\vec B|\\cos(37°) =|\\vec Bx|$ =>$|\\vec Bx| = 20\\cos(37°)$  =>$|\\vec Bx|\\simeq 16$ \n",
    "\n",
    "$\\sin(\\alpha ) = \\frac{|\\vec By|}{|\\vec B|}$  =>$|\\vec B|\\sin(37°) =|\\vec By|$ =>$|\\vec By| = 20\\sin(37°)$  =>$|\\vec By|\\simeq 12$\n",
    "\n",
    "$|\\vec Rx |= \\vec Ax + \\vec Bx$  =>$|\\vec Rx |= -8 +16$ =>$|\\vec Rx|\\simeq 8$  \n",
    "$|\\vec Ry |= \\vec Ay + \\vec By$  =>$|\\vec Ry |= 6 +12$ =>$|\\vec Ry|\\simeq 18$ \n",
    "##### Pythagoras Theorem\n",
    "$|\\vec Rt^2|=|\\vec Rx^2|+|\\vec Ry^2|$  => $|\\vec Rt^2|= 8^2 +18^2$ =>$|\\vec Rt|= \\sqrt 388 =>|\\vec Rt|= 19.74$"
   ]
  },
  {
   "cell_type": "code",
   "execution_count": 1,
   "metadata": {},
   "outputs": [
    {
     "data": {
      "application/javascript": [
       "if (typeof Jupyter !== \"undefined\") {require.undef(\"nbextensions/vpython_libraries/glow.min\");}else{element.textContent = ' ';}"
      ],
      "text/plain": [
       "<IPython.core.display.Javascript object>"
      ]
     },
     "metadata": {},
     "output_type": "display_data"
    },
    {
     "data": {
      "application/javascript": [
       "if (typeof Jupyter !== \"undefined\") {require.undef(\"nbextensions/vpython_libraries/glowcomm\");}else{element.textContent = ' ';}"
      ],
      "text/plain": [
       "<IPython.core.display.Javascript object>"
      ]
     },
     "metadata": {},
     "output_type": "display_data"
    },
    {
     "data": {
      "application/javascript": [
       "if (typeof Jupyter !== \"undefined\") {require.undef(\"nbextensions/vpython_libraries/jquery-ui.custom.min\");}else{element.textContent = ' ';}"
      ],
      "text/plain": [
       "<IPython.core.display.Javascript object>"
      ]
     },
     "metadata": {},
     "output_type": "display_data"
    },
    {
     "data": {
      "application/javascript": [
       "if (typeof Jupyter !== \"undefined\") {require([\"nbextensions/vpython_libraries/glow.min\"], function(){console.log(\"GLOW LOADED\");});}else{element.textContent = ' ';}"
      ],
      "text/plain": [
       "<IPython.core.display.Javascript object>"
      ]
     },
     "metadata": {},
     "output_type": "display_data"
    },
    {
     "data": {
      "application/javascript": [
       "if (typeof Jupyter !== \"undefined\") {require([\"nbextensions/vpython_libraries/glowcomm\"], function(){console.log(\"GLOWCOMM LOADED\");});}else{element.textContent = ' ';}"
      ],
      "text/plain": [
       "<IPython.core.display.Javascript object>"
      ]
     },
     "metadata": {},
     "output_type": "display_data"
    },
    {
     "data": {
      "application/javascript": [
       "if (typeof Jupyter !== \"undefined\") {require([\"nbextensions/vpython_libraries/jquery-ui.custom.min\"], function(){console.log(\"JQUERY LOADED\");});}else{element.textContent = ' ';}"
      ],
      "text/plain": [
       "<IPython.core.display.Javascript object>"
      ]
     },
     "metadata": {},
     "output_type": "display_data"
    },
    {
     "data": {
      "text/html": [
       "<div id=\"glowscript\" class=\"glowscript\"></div>"
      ],
      "text/plain": [
       "<IPython.core.display.HTML object>"
      ]
     },
     "metadata": {},
     "output_type": "display_data"
    },
    {
     "data": {
      "application/javascript": [
       "if (typeof Jupyter !== \"undefined\") { window.__context = { glowscript_container: $(\"#glowscript\").removeAttr(\"id\")};}else{ element.textContent = ' ';}"
      ],
      "text/plain": [
       "<IPython.core.display.Javascript object>"
      ]
     },
     "metadata": {},
     "output_type": "display_data"
    },
    {
     "data": {
      "text/html": [
       "<div id=\"glowscript\" class=\"glowscript\"></div>"
      ],
      "text/plain": [
       "<IPython.core.display.HTML object>"
      ]
     },
     "metadata": {},
     "output_type": "display_data"
    },
    {
     "data": {
      "application/javascript": [
       "if (typeof Jupyter !== \"undefined\") { window.__context = { glowscript_container: $(\"#glowscript\").removeAttr(\"id\")};}else{ element.textContent = ' ';}"
      ],
      "text/plain": [
       "<IPython.core.display.Javascript object>"
      ]
     },
     "metadata": {},
     "output_type": "display_data"
    },
    {
     "name": "stdout",
     "output_type": "stream",
     "text": [
      "Ax = 7.986355100472928  |Ay = 6.018150231520483 \n",
      "Bx = 15.972710200945857 |By = 12.036300463040966 \n",
      "Rx= 7.986355100472928   |Ry= 18.05445069456145 \n",
      "Rt= 19.741961849654164\n"
     ]
    }
   ],
   "source": [
    "#------Visualitation 3D in VPython------------#\n",
    "from vpython import *\n",
    "import math\n",
    "#Escene\n",
    "canvas(title='Exercise 5',width=300, height=200,center=vector(0,0,0),background=color.black)\n",
    "Theta = 37 ; Alpha= 37; A=10;B= 20 \n",
    "#create objects\n",
    "B1=sphere(pos=vector(0,0,0), radius=0.8 , color=color.red)\n",
    "B2=sphere(pos=vector(-A/2,A/2,0), radius=0.01 , color=color.red)\n",
    "B3=sphere(pos=vector(B/2,A/2,0), radius=0.01 , color=color.red)\n",
    "#create vector\n",
    "F1=arrow(pos=B1.pos, axis=B2.pos-B1.pos, color=color.white)\n",
    "F2=arrow(pos=B1.pos, axis=B3.pos-B1.pos, color=color.yellow)\n",
    "#mathematical calculations\n",
    "st = math.sin(math.radians(Theta)); ct = math.cos(math.radians(Theta))\n",
    "sa = math.sin(math.radians(Alpha)); ca = math.cos(math.radians(Alpha))\n",
    "Ax = A * ct; Ay = A * st ; Bx = B * ca; By = B * sa ;Rx = -Ax + Bx;Ry = Ay + By\n",
    "# Calculation of RT -->vector - Pythagoras Theorem\n",
    "Rt = math.radians(math.sqrt(math.degrees(Rx)**2+math.degrees(Ry)**2)) \n",
    "print(\"Ax =\",Ax,\" |Ay =\",Ay,\"\\nBx =\",Bx,\"|By =\",By,\"\\nRx=\",Rx,\"  |Ry=\",Ry,\"\\nRt=\",Rt)"
   ]
  },
  {
   "cell_type": "code",
   "execution_count": null,
   "metadata": {},
   "outputs": [],
   "source": []
  }
 ],
 "metadata": {
  "kernelspec": {
   "display_name": "VPython",
   "language": "python",
   "name": "vpython"
  },
  "language_info": {
   "codemirror_mode": {
    "name": "ipython",
    "version": 3
   },
   "file_extension": ".py",
   "mimetype": "text/x-python",
   "name": "python",
   "nbconvert_exporter": "python",
   "pygments_lexer": "ipython3",
   "version": "3.7.0"
  }
 },
 "nbformat": 4,
 "nbformat_minor": 2
}
