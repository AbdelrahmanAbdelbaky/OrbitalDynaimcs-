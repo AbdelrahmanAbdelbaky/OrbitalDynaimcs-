{
 "cells": [
  {
   "cell_type": "markdown",
   "metadata": {},
   "source": [
    "# Physics Practice - (UVRM) - Lvl 1\n",
    "#### Notebook 4 - Uniformly varied rectilinear motion\n",
    "<b>Programmer:</b> Carlos Prado. - 21/12/2018  \n",
    "<b>Objective:</b> To review URM,learn the Latex language and implement the code in Python"
   ]
  },
  {
   "cell_type": "markdown",
   "metadata": {},
   "source": [
    "###### Formulation UVRM     \n",
    "- 1) $v_{f} = v_{o}+-a\\cdot t $   \n",
    "\n",
    "\n",
    "- 2) $d = v_{o}\\cdot t +- \\frac{a \\cdot t^2}{2} $    \n",
    "\n",
    "\n",
    "- 3) $v_{f}^2 = v_{o}^2 +- 2\\cdot a \\cdot d$  \n",
    "\n",
    "\n",
    "- 4) $d = \\frac{v_{o} + v_{f}}{2}\\cdot t$  \n",
    "\n",
    "\n",
    "\n",
    "- 5) $a = \\frac {v_{o} + v_{f}}{t} $        \n",
    "\n",
    " \n",
    "- 6) $x = v_{o} +- \\frac{1}{2}a (2n-1)$     \n",
    "\n",
    "#### Exercise 1\n",
    "In what time with uniform deceleration does the train stop just in front of the tree, if it goes at 30 m/s?\n",
    "\n",
    "<b>Res:</b>: \n",
    "\n",
    "###### Train : \n",
    "- $v_{o} = 30 \\frac {m}{\\sec}$   \n",
    "\n",
    "- $v_{f}= 0 \\frac {m}{\\sec}$   \n",
    "\n",
    "- $d = 120 m $   \n",
    "\n",
    "- $t = ? $   \n",
    "\n",
    "###### Formula 4):  \n",
    "- $d = \\frac{v_{o} + v_{f}}{2}\\cdot t$ \n",
    "\n",
    "- $120 = \\frac{30  +  0}{2}\\cdot t$      \n",
    "- $240 = 30\\cdot t$      \n",
    "- $\\frac{240}{30} = t$\n",
    "- $t = 8\\sec$\n",
    "\n",
    "\n",
    "\n"
   ]
  },
  {
   "cell_type": "code",
   "execution_count": null,
   "metadata": {},
   "outputs": [],
   "source": []
  },
  {
   "cell_type": "markdown",
   "metadata": {},
   "source": [
    "#### Exercise 2\n",
    "Two cars start from the same position from rest, with accelerations of $1\\frac{m}{\\sec^2}$ and $2\\frac{m}{\\sec^2}$.    \n",
    "Find the distance that separates them after $5\\sec$.\n",
    "\n",
    "<b>Res:</b>: \n",
    "\n",
    "###### Car 1 : \n",
    "- $v_{o} = 0 \\frac {m}{\\sec}$  \n",
    "\n",
    "- $a1 = 1\\frac{m}{\\sec^2}$\n",
    "\n",
    "- $d1 = ?$   \n",
    "\n",
    "- $t = 5\\sec $   \n",
    "\n",
    "###### Formula 2):  \n",
    "- $d = v_{o}\\cdot t +- \\frac{a \\cdot t^2}{2} $ \n",
    "\n",
    "- $d_{1} = 0\\cdot 5 + \\frac{1 \\cdot 5^2}{2}$         \n",
    "- $d_{1} = \\frac{25}{2} $    \n",
    "- $d_{1} = 12.5m $    \n",
    "\n",
    "\n",
    "###### Car 2: \n",
    "- $v_{o} = 0 \\frac {m}{\\sec}$  \n",
    "\n",
    "- $a_{2} = 2\\frac{m}{\\sec^2}$\n",
    "\n",
    "- $d_{2} = ?$   \n",
    "\n",
    "- $t = 5\\sec $   \n",
    "\n",
    "###### Formula 2):  \n",
    "- $d = v_{o}\\cdot t +- \\frac{a \\cdot t^2}{2} $ \n",
    "\n",
    "- $d_{2} = 0\\cdot 5 + \\frac{2 \\cdot 5^2}{2}$         \n",
    "- $d_{2} = \\frac{50}{2} $    \n",
    "- $d_{2} = 25 m $    \n",
    "\n",
    "###### $d_{2} - d_{1} = 12.5 m$:  \n"
   ]
  },
  {
   "cell_type": "code",
   "execution_count": null,
   "metadata": {},
   "outputs": [],
   "source": []
  }
 ],
 "metadata": {
  "kernelspec": {
   "display_name": "VPython",
   "language": "python",
   "name": "vpython"
  },
  "language_info": {
   "codemirror_mode": {
    "name": "ipython",
    "version": 3
   },
   "file_extension": ".py",
   "mimetype": "text/x-python",
   "name": "python",
   "nbconvert_exporter": "python",
   "pygments_lexer": "ipython3",
   "version": "3.7.0"
  }
 },
 "nbformat": 4,
 "nbformat_minor": 2
}
