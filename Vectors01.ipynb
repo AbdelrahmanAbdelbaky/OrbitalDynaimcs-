{
 "cells": [
  {
   "cell_type": "markdown",
   "metadata": {},
   "source": [
    "# Physics Practice - Vectors\n",
    "## Exercises \n",
    "Programmer: Carlos Prado.\n",
    "\n",
    "Fonts: \n",
    "https://www.youtube.com/watch?v=etX1fU9PvqU&list=PL3KGq8pH1bFS0lr5NfcXXgSxh4CGQqY-i&index=6\n",
    "\n",
    "https://www.youtube.com/watch?v=ml4NSzCQobk"
   ]
  },
  {
   "cell_type": "markdown",
   "metadata": {},
   "source": [
    "### 1) - Find the module, sense, direction of the following vector\n",
    "$\\vec A=\\langle 12,9\\rangle$"
   ]
  },
  {
   "cell_type": "markdown",
   "metadata": {},
   "source": [
    "#### Logical resolution:\n",
    "$x=12;y=9$  \n",
    "#### Pythagoras Theorem:\n",
    "$h^2= a^2+b^2$ => $|\\vec A^2|= 12^2+9^2$ => $|\\vec A^2|= 144 + 81$ => $|\\vec A|= \\sqrt{225}$ => $|\\vec A|= 15$  \n",
    "#### Trigonometry:\n",
    "\n",
    "$\\cos(\\theta )=\\frac{12}{15} => \\theta = \\cos ^-1(4/5) = 0.6435 rad \\simeq 37°$\n",
    "\n"
   ]
  },
  {
   "cell_type": "code",
   "execution_count": 1,
   "metadata": {
    "scrolled": true
   },
   "outputs": [
    {
     "data": {
      "application/javascript": [
       "if (typeof Jupyter !== \"undefined\") {require.undef(\"nbextensions/vpython_libraries/glow.min\");}else{element.textContent = ' ';}"
      ],
      "text/plain": [
       "<IPython.core.display.Javascript object>"
      ]
     },
     "metadata": {},
     "output_type": "display_data"
    },
    {
     "data": {
      "application/javascript": [
       "if (typeof Jupyter !== \"undefined\") {require.undef(\"nbextensions/vpython_libraries/glowcomm\");}else{element.textContent = ' ';}"
      ],
      "text/plain": [
       "<IPython.core.display.Javascript object>"
      ]
     },
     "metadata": {},
     "output_type": "display_data"
    },
    {
     "data": {
      "application/javascript": [
       "if (typeof Jupyter !== \"undefined\") {require.undef(\"nbextensions/vpython_libraries/jquery-ui.custom.min\");}else{element.textContent = ' ';}"
      ],
      "text/plain": [
       "<IPython.core.display.Javascript object>"
      ]
     },
     "metadata": {},
     "output_type": "display_data"
    },
    {
     "data": {
      "application/javascript": [
       "if (typeof Jupyter !== \"undefined\") {require([\"nbextensions/vpython_libraries/glow.min\"], function(){console.log(\"GLOW LOADED\");});}else{element.textContent = ' ';}"
      ],
      "text/plain": [
       "<IPython.core.display.Javascript object>"
      ]
     },
     "metadata": {},
     "output_type": "display_data"
    },
    {
     "data": {
      "application/javascript": [
       "if (typeof Jupyter !== \"undefined\") {require([\"nbextensions/vpython_libraries/glowcomm\"], function(){console.log(\"GLOWCOMM LOADED\");});}else{element.textContent = ' ';}"
      ],
      "text/plain": [
       "<IPython.core.display.Javascript object>"
      ]
     },
     "metadata": {},
     "output_type": "display_data"
    },
    {
     "data": {
      "application/javascript": [
       "if (typeof Jupyter !== \"undefined\") {require([\"nbextensions/vpython_libraries/jquery-ui.custom.min\"], function(){console.log(\"JQUERY LOADED\");});}else{element.textContent = ' ';}"
      ],
      "text/plain": [
       "<IPython.core.display.Javascript object>"
      ]
     },
     "metadata": {},
     "output_type": "display_data"
    },
    {
     "data": {
      "text/html": [
       "<div id=\"glowscript\" class=\"glowscript\"></div>"
      ],
      "text/plain": [
       "<IPython.core.display.HTML object>"
      ]
     },
     "metadata": {},
     "output_type": "display_data"
    },
    {
     "data": {
      "application/javascript": [
       "if (typeof Jupyter !== \"undefined\") { window.__context = { glowscript_container: $(\"#glowscript\").removeAttr(\"id\")};}else{ element.textContent = ' ';}"
      ],
      "text/plain": [
       "<IPython.core.display.Javascript object>"
      ]
     },
     "metadata": {},
     "output_type": "display_data"
    },
    {
     "data": {
      "text/html": [
       "<div id=\"glowscript\" class=\"glowscript\"></div>"
      ],
      "text/plain": [
       "<IPython.core.display.HTML object>"
      ]
     },
     "metadata": {},
     "output_type": "display_data"
    },
    {
     "data": {
      "application/javascript": [
       "if (typeof Jupyter !== \"undefined\") { window.__context = { glowscript_container: $(\"#glowscript\").removeAttr(\"id\")};}else{ element.textContent = ' ';}"
      ],
      "text/plain": [
       "<IPython.core.display.Javascript object>"
      ]
     },
     "metadata": {},
     "output_type": "display_data"
    },
    {
     "name": "stdout",
     "output_type": "stream",
     "text": [
      "|Module 15.0 |Rad 0.6435011087932843 | 36.86989764584401 °\n"
     ]
    }
   ],
   "source": [
    "#------Visualitation 3D in VPython------------#\n",
    "from vpython import *\n",
    "import math\n",
    "#Escene\n",
    "canvas(title='Exercise 1',width=300, height=200,center=vector(0,0,0), background=color.black)\n",
    "#Scale 1:2\n",
    "xs= 12/2 ;ys= 9/2 ;x=12; y=9\n",
    "#create objects\n",
    "Ball1=sphere(pos=vector(0,0,0), radius=0.1 , color=color.red)\n",
    "Ball2=sphere(pos=vector(xs,ys,0), radius=0.1 , color=color.red)\n",
    "#create vector\n",
    "F1=arrow(pos=Ball1.pos, axis=Ball2.pos-Ball1.pos, color=color.red)\n",
    "#mathematical calculations\n",
    "Amod=  math.sqrt(x**2+y**2+0)\n",
    "Theta= math.acos(12/15) \n",
    "g=math.degrees(Theta)\n",
    "print(\"|Module\",Amod,\"|Rad\",Theta ,\"|\",g,\"°\") "
   ]
  },
  {
   "cell_type": "code",
   "execution_count": null,
   "metadata": {},
   "outputs": [],
   "source": [
    "\n"
   ]
  },
  {
   "cell_type": "code",
   "execution_count": null,
   "metadata": {},
   "outputs": [],
   "source": []
  }
 ],
 "metadata": {
  "kernelspec": {
   "display_name": "VPython",
   "language": "python",
   "name": "vpython"
  },
  "language_info": {
   "codemirror_mode": {
    "name": "ipython",
    "version": 3
   },
   "file_extension": ".py",
   "mimetype": "text/x-python",
   "name": "python",
   "nbconvert_exporter": "python",
   "pygments_lexer": "ipython3",
   "version": "3.7.0"
  }
 },
 "nbformat": 4,
 "nbformat_minor": 2
}
