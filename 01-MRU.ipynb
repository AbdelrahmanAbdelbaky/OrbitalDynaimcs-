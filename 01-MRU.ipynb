{
 "cells": [
  {
   "cell_type": "markdown",
   "metadata": {},
   "source": [
    "# Physics Practice - (URM) - Lvl 1/3\n",
    "#### Notebook 1 - Uniform rectilinear motion \n",
    "<b>Programmer:</b> Carlos Prado. - 13/12/2018  \n",
    "<b>Objective:</b> To review URM,learn the Latex language and implement the code in Python\n"
   ]
  },
  {
   "cell_type": "markdown",
   "metadata": {},
   "source": [
    "#### Exercise 1\n",
    "- A car travels in a straight line at a speed of 10 m/sec.Find the distance the car travels in 60 sec.    \n",
    " <b>Resolution</b>:  Data:   $e = v \\cdot t$   \n",
    " - $e = 10\\frac {m}{sec} \\cdot 60 sec = 600 m$\n"
   ]
  },
  {
   "cell_type": "code",
   "execution_count": 6,
   "metadata": {},
   "outputs": [
    {
     "data": {
      "text/html": [
       "<div id=\"glowscript\" class=\"glowscript\"></div>"
      ],
      "text/plain": [
       "<IPython.core.display.HTML object>"
      ]
     },
     "metadata": {},
     "output_type": "display_data"
    },
    {
     "data": {
      "application/javascript": [
       "if (typeof Jupyter !== \"undefined\") { window.__context = { glowscript_container: $(\"#glowscript\").removeAttr(\"id\")};}else{ element.textContent = ' ';}"
      ],
      "text/plain": [
       "<IPython.core.display.Javascript object>"
      ]
     },
     "metadata": {},
     "output_type": "display_data"
    }
   ],
   "source": [
    "from vpython import *\n",
    "#-- e = v * t\n",
    "v1 = 10; t1 = 60;\n",
    "e = v1*t1 ; v= e/t1; t= e/v1\n",
    "#Escene\n",
    "canvas(title='Exercise 1',width=600, height=300,center=vector(0,0,0),background=color.black)\n",
    "\n",
    "#create objects\n",
    "x_0 = sphere(pos=vector(-30,0,0), radius=0.5, color = color.green)\n",
    "Labx00 = label(pos=x_0.pos,text='Start', xoffset=0,yoffset=50, space=20,\n",
    "    height=16, border=4,\n",
    "    font='sans')\n",
    "Labx001 = label(pos=x_0.pos,text='0 sec', xoffset=0,yoffset=-50, space=20,\n",
    "    height=16, border=4,\n",
    "    font='sans')\n",
    "x_1 = sphere(pos=vector(-20,0,0), radius=0.5, color = color.white)\n",
    "Labx11 = label(pos=x_1.pos,text='10 Sec', xoffset=0,yoffset=-50, space=20,\n",
    "    height=16, border=4,\n",
    "    font='sans')\n",
    "x_2 = sphere(pos=vector(-10,0,0), radius=0.5, color = color.white)\n",
    "Labx20 = label(pos=x_2.pos,text='20 Sec', xoffset=0,yoffset=-50, space=20,\n",
    "    height=16, border=4,\n",
    "    font='sans')\n",
    "x_3 = sphere(pos=vector(0,0,0), radius=0.5, color = color.white)\n",
    "Labx30 = label(pos=x_3.pos,text='30 Sec', xoffset=0,yoffset=-50, space=20,\n",
    "    height=16, border=4,\n",
    "    font='sans')\n",
    "x_4 = sphere(pos=vector(10,0,0), radius=0.5, color = color.white)\n",
    "Labx40 = label(pos=x_4.pos,text='40 Sec', xoffset=0,yoffset=-50, space=20,\n",
    "    height=16, border=4,\n",
    "    font='sans')\n",
    "x_5 = sphere(pos=vector(20,0,0), radius=0.5, color = color.white)\n",
    "Labx50 = label(pos=x_5.pos,text='50 Sec', xoffset=0,yoffset=-50, space=20,\n",
    "    height=16, border=4,\n",
    "    font='sans')\n",
    "x_6 = sphere(pos=vector(30,0,0), radius=0.5, color = color.red)\n",
    "Labx6 = label(pos=x_6.pos,text='600 Mts', xoffset=0,yoffset=50, space=20,\n",
    "    height=16, border=4,\n",
    "    font='sans')\n",
    "Labx62 = label(pos=x_6.pos,text='60 sec', xoffset=0,yoffset=-50, space=20,\n",
    "    height=16, border=4,\n",
    "    font='sans')\n",
    "\n",
    "car = box(pos=vector(-30,0,0), radius=30, color = color.yellow,make_trail = True,\n",
    "          trail_type=\"points\")\n",
    "\n",
    "Lab1 = label(pos=car.pos,text='Car', xoffset=0,yoffset=50, space=20,\n",
    "    height=16, border=4,\n",
    "    font='sans')\n",
    "\n",
    "# -- Creamos un vector de posición --\n",
    "carv= vector(0.10,0,0)\n",
    "#print(e,v,t)\n",
    "\n",
    "\n",
    "for i in range(300):\n",
    "    rate(v)\n",
    "    #earth.pos = earth.pos + earthv\n",
    "    car.pos = car.pos + carv\n",
    "    Lab1.pos = Lab1.pos + carv   \n",
    "    \n",
    "    car.pos += carv\n",
    "    Lab1.pos+=carv\n"
   ]
  },
  {
   "cell_type": "markdown",
   "metadata": {},
   "source": [
    "#### Exercise 2\n",
    "A train has to travel 360 km in 2 hours; to find the uniform speed in the international system, to which it must go to arrive on time.  \n",
    "\n",
    "<b>Res:</b>:    \n",
    "- $v = 360 Km = 360000m$ ; $t = 2 hs = 7200 sec$    \n",
    " \n",
    " \n",
    " - $v = \\frac {e}{t}$    \n",
    " \n",
    " \n",
    " - $v =\\frac {360km}{2hs}= 180\\frac{km}{hs}$  \n",
    " \n",
    " \n",
    " - $v =\\frac {360000m}{7200sec}= 50\\frac{m}{sec}$   "
   ]
  },
  {
   "cell_type": "code",
   "execution_count": 7,
   "metadata": {},
   "outputs": [
    {
     "data": {
      "text/html": [
       "<div id=\"glowscript\" class=\"glowscript\"></div>"
      ],
      "text/plain": [
       "<IPython.core.display.HTML object>"
      ]
     },
     "metadata": {},
     "output_type": "display_data"
    },
    {
     "data": {
      "application/javascript": [
       "if (typeof Jupyter !== \"undefined\") { window.__context = { glowscript_container: $(\"#glowscript\").removeAttr(\"id\")};}else{ element.textContent = ' ';}"
      ],
      "text/plain": [
       "<IPython.core.display.Javascript object>"
      ]
     },
     "metadata": {},
     "output_type": "display_data"
    }
   ],
   "source": [
    "from vpython import *\n",
    "#-- v = e / t\n",
    "e = 360000\n",
    "t = 7200;\n",
    "v = e / t \n",
    "#Escene\n",
    "canvas(title='Exercise 2',width=600, height=300,center=vector(0,0,0),background=color.black)\n",
    "\n",
    "#create objects\n",
    "x_0 = sphere(pos=vector(-30,0,0), radius=0.5, color = color.green)\n",
    "Labx00 = label(pos=x_0.pos,text='Start', xoffset=0,yoffset=50, space=20,\n",
    "    height=16, border=4,\n",
    "    font='sans')\n",
    "Labx001 = label(pos=x_0.pos,text='0 sec', xoffset=0,yoffset=-50, space=20,\n",
    "    height=16, border=4,\n",
    "    font='sans')\n",
    "x_1 = sphere(pos=vector(-20,0,0), radius=0.5, color = color.white)\n",
    "Labx11 = label(pos=x_1.pos,text='50 Km', xoffset=0,yoffset=-50, space=20,\n",
    "    height=16, border=4,\n",
    "    font='sans')\n",
    "x_2 = sphere(pos=vector(-10,0,0), radius=0.5, color = color.white)\n",
    "Labx20 = label(pos=x_2.pos,text='100 Km', xoffset=0,yoffset=-50, space=20,\n",
    "    height=16, border=4,\n",
    "    font='sans')\n",
    "x_3 = sphere(pos=vector(0,0,0), radius=0.5, color = color.white)\n",
    "Labx30 = label(pos=x_3.pos,text='150 Km', xoffset=0,yoffset=-50, space=20,\n",
    "    height=16, border=4,\n",
    "    font='sans')\n",
    "x_4 = sphere(pos=vector(10,0,0), radius=0.5, color = color.white)\n",
    "Labx40 = label(pos=x_4.pos,text='200 Km', xoffset=0,yoffset=-50, space=20,\n",
    "    height=16, border=4,\n",
    "    font='sans')\n",
    "x_5 = sphere(pos=vector(20,0,0), radius=0.5, color = color.white)\n",
    "Labx50 = label(pos=x_5.pos,text='250 Km', xoffset=0,yoffset=-50, space=20,\n",
    "    height=16, border=4,\n",
    "    font='sans')\n",
    "x_6 = sphere(pos=vector(36,0,0), radius=0.5, color = color.red)\n",
    "Labx6 = label(pos=x_6.pos,text='300 Km', xoffset=0,yoffset=50, space=20,\n",
    "    height=16, border=4,\n",
    "    font='sans')\n",
    "Labx62 = label(pos=x_6.pos,text='360 Km', xoffset=0,yoffset=-50, space=20,\n",
    "    height=16, border=4,\n",
    "    font='sans')\n",
    "\n",
    "car = box(pos=vector(-30,0,0), radius=30, color = color.yellow,make_trail = True,\n",
    "          trail_type=\"points\")\n",
    "\n",
    "Lab1 = label(pos=car.pos,text='Train', xoffset=0,yoffset=50, space=20,\n",
    "    height=16, border=4,\n",
    "    font='sans')\n",
    "\n",
    "# -- Creamos un vector de posición --\n",
    "carv= vector(0.10,0,0)\n",
    "#print(e,v,t)\n",
    "\n",
    "for i in range(330):\n",
    "    rate(v)\n",
    "    #earth.pos = earth.pos + earthv\n",
    "    car.pos = car.pos + carv\n",
    "    Lab1.pos = Lab1.pos + carv   \n",
    "    \n",
    "    car.pos += carv\n",
    "    Lab1.pos+=carv\n"
   ]
  },
  {
   "cell_type": "markdown",
   "metadata": {},
   "source": [
    "#### Exercise 3\n",
    "How long will it take for a competitor to travel 500 meters flat, advancing at 18 km / hs?  \n",
    "\n",
    "<b>Res:</b>: $t = ?$  ;   $t = \\frac {e}{v}$   \n",
    "- $e = 500 m$ ; $v = 18\\frac{Km}{Hs} => \\frac {18000m}{3600sec}=$ $5 \\frac {m}{sec}$   \n",
    "\n",
    " \n",
    " - $t =\\frac {500m}{5\\frac{m}{\\sec}}= 100 \\sec$  \n",
    " "
   ]
  },
  {
   "cell_type": "code",
   "execution_count": 8,
   "metadata": {},
   "outputs": [
    {
     "data": {
      "text/html": [
       "<div id=\"glowscript\" class=\"glowscript\"></div>"
      ],
      "text/plain": [
       "<IPython.core.display.HTML object>"
      ]
     },
     "metadata": {},
     "output_type": "display_data"
    },
    {
     "data": {
      "application/javascript": [
       "if (typeof Jupyter !== \"undefined\") { window.__context = { glowscript_container: $(\"#glowscript\").removeAttr(\"id\")};}else{ element.textContent = ' ';}"
      ],
      "text/plain": [
       "<IPython.core.display.Javascript object>"
      ]
     },
     "metadata": {},
     "output_type": "display_data"
    }
   ],
   "source": [
    "from vpython import *\n",
    "#-- v = e / t\n",
    "v = 5\n",
    "e = 500\n",
    "t = e / t \n",
    "#Escene\n",
    "canvas(title='Exercise 3',width=600, height=300,center=vector(0,0,0),background=color.black)\n",
    "\n",
    "#create objects\n",
    "x_0 = sphere(pos=vector(-30,0,0), radius=0.5, color = color.green)\n",
    "Labx00 = label(pos=x_0.pos,text='Start', xoffset=0,yoffset=50, space=20,\n",
    "    height=16, border=4,\n",
    "    font='sans')\n",
    "#Labx001 = label(pos=x_0.pos,text='0 sec', xoffset=0,yoffset=-50, space=20,\n",
    " #   height=16, border=4,\n",
    "  #  font='sans')\n",
    "x_1 = sphere(pos=vector(-20,0,0), radius=0.5, color = color.white)\n",
    "Labx11 = label(pos=x_1.pos,text='100 m', xoffset=0,yoffset=-50, space=20,\n",
    "    height=16, border=4,\n",
    "    font='sans')\n",
    "x_2 = sphere(pos=vector(-10,0,0), radius=0.5, color = color.white)\n",
    "Labx20 = label(pos=x_2.pos,text='200 m', xoffset=0,yoffset=-50, space=20,\n",
    "    height=16, border=4,\n",
    "    font='sans')\n",
    "x_3 = sphere(pos=vector(0,0,0), radius=0.5, color = color.white)\n",
    "Labx30 = label(pos=x_3.pos,text='300 m', xoffset=0,yoffset=-50, space=20,\n",
    "    height=16, border=4,\n",
    "    font='sans')\n",
    "x_4 = sphere(pos=vector(10,0,0), radius=0.5, color = color.white)\n",
    "Labx40 = label(pos=x_4.pos,text='400 m', xoffset=0,yoffset=-50, space=20,\n",
    "    height=16, border=4,\n",
    "    font='sans')\n",
    "x_5 = sphere(pos=vector(20,0,0), radius=0.5, color = color.white)\n",
    "Labx50 = label(pos=x_5.pos,text='500 m', xoffset=0,yoffset=-50, space=20,\n",
    "    height=16, border=4,\n",
    "    font='sans')\n",
    "car = box(pos=vector(-30,0,0), radius=30, color = color.yellow,make_trail = True,\n",
    "          trail_type=\"points\")\n",
    "\n",
    "Lab1 = label(pos=car.pos,text='Runner', xoffset=0,yoffset=50, space=20,\n",
    "    height=16, border=4,\n",
    "    font='sans')\n",
    "\n",
    "# -- Creamos un vector de posición --\n",
    "carv= vector(0.10,0,0)\n",
    "#print(e,v,t)\n",
    "\n",
    "for i in range(250):\n",
    "    rate(v)\n",
    "    #earth.pos = earth.pos + earthv\n",
    "    car.pos = car.pos + carv\n",
    "    Lab1.pos = Lab1.pos + carv   \n",
    "    \n",
    "    car.pos += carv\n",
    "    Lab1.pos+=carv\n"
   ]
  },
  {
   "cell_type": "code",
   "execution_count": null,
   "metadata": {},
   "outputs": [],
   "source": []
  }
 ],
 "metadata": {
  "kernelspec": {
   "display_name": "VPython",
   "language": "python",
   "name": "vpython"
  },
  "language_info": {
   "codemirror_mode": {
    "name": "ipython",
    "version": 3
   },
   "file_extension": ".py",
   "mimetype": "text/x-python",
   "name": "python",
   "nbconvert_exporter": "python",
   "pygments_lexer": "ipython3",
   "version": "3.7.0"
  }
 },
 "nbformat": 4,
 "nbformat_minor": 2
}
