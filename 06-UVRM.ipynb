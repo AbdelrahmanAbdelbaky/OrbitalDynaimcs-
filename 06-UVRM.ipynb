{
 "cells": [
  {
   "cell_type": "markdown",
   "metadata": {},
   "source": [
    "# Physics Practice - (UVRM) - Lvl 3\n",
    "#### Notebook 6 - Uniformly varied rectilinear motion\n",
    "<b>Programmer:</b> Carlos Prado. - 22/12/2018  \n",
    "<b>Objective:</b> To review UVRM,learn the Latex language and implement the code in Python"
   ]
  },
  {
   "cell_type": "markdown",
   "metadata": {},
   "source": [
    "###### Formulation UVRM     \n",
    "- 1) $v_{f} = v_{o}+-a\\cdot t $   \n",
    "\n",
    "\n",
    "- 2) $d = v_{o}\\cdot t +- \\frac{a \\cdot t^2}{2} $    \n",
    "\n",
    "\n",
    "- 3) $v_{f}^2 = v_{o}^2 +- 2\\cdot a \\cdot d$  \n",
    "\n",
    "\n",
    "- 4) $d = \\frac{v_{o} + v_{f}}{2}\\cdot t$  \n",
    "\n",
    "\n",
    "\n",
    "- 5) $a = \\frac {v_{o} + v_{f}}{t} $        \n",
    "\n",
    " \n",
    "- 6) $x = v_{o} +- \\frac{1}{2}a (2n-1)$     \n",
    "\n",
    "#### Exercise 1\n",
    "A car departs from rest with an acceleration of $6\\frac {m}{\\sec^2}$.    \n",
    "Find the distance to the second 4.\n",
    "\n",
    "<b>Res:</b>: \n",
    "\n",
    "###### Car : \n",
    "- $v_{o} = 0\\frac {m}{\\sec}$   \n",
    "\n",
    "- $d = ?$  \n",
    "\n",
    "- $a = 6\\frac {m}{\\sec^2}$\n",
    "\n",
    "- $t = 4\\sec $   \n",
    "\n",
    "\n",
    "###### Distance travelled in the second 4 - Formula 6):  \n",
    "- $x = v_{o} +- \\frac{1}{2}a (2n-1)$ \n",
    "\n",
    "- $x_{4} = 0 + \\frac{1}{2}6 (2\\cdot 4 - 1)$          \n",
    "- $x_{4} = 3(8 - 1)$   \n",
    "- $x_{4} = 21m$ "
   ]
  },
  {
   "cell_type": "code",
   "execution_count": null,
   "metadata": {},
   "outputs": [],
   "source": []
  },
  {
   "cell_type": "markdown",
   "metadata": {},
   "source": [
    "#### Exercise 2\n",
    "A car leaves for rest and travels 190 m in the twelfth. Find the distance it travels during seconds 3, 4 and 5.   \n",
    "\n",
    "<b>Res:</b>: \n",
    "\n",
    "###### Car : \n",
    "- $v_{o} = 0\\frac {m}{\\sec}$   \n",
    "\n",
    "- $a = 20\\frac {m}{\\sec^2}$\n",
    "\n",
    "- $x_{3} = \\sec $\n",
    "\n",
    "- $x_{4} = \\sec $\n",
    "\n",
    "- $x_{5} = \\sec $\n",
    "\n",
    "\n",
    "###### Calculation of acceleration. - Formula 6):  \n",
    "- $x = v_{o} +- \\frac{1}{2}a (2n-1)$ \n",
    "\n",
    "- $190 = 0 + \\frac{1}{2}a (2\\cdot 10 - 1)$          \n",
    "- $190 = \\frac{a}{2} (19)$   \n",
    "- $a = \\frac{190\\cdot2}{19} $ \n",
    "- $a = 20\\frac{m}{\\sec^2} $    \n",
    "\n",
    "###### Calculation of time 3, 4 and 5:\n",
    "- $x = v_{o} +- \\frac{1}{2}a (2n-1)$ \n",
    "\n",
    "- $x_{n} = 0 + \\frac{20}{2}(2n - 1)$             \n",
    "- $x_{n} = 10(2n - 1)$      \n",
    "- $x_{n} = 20n - 10$     \n",
    "- $x_{3} = 20\\cdot 3- 10 = 50m$   \n",
    "- $x_{4} = 20\\cdot 4 - 10 = 70m$      \n",
    "- $x_{5} = 20\\cdot 5 - 10 = 90m$\n",
    "\n",
    "##### Distance travelled in seconds 3, 4 and 5: 210m\n"
   ]
  },
  {
   "cell_type": "code",
   "execution_count": null,
   "metadata": {},
   "outputs": [],
   "source": []
  }
 ],
 "metadata": {
  "kernelspec": {
   "display_name": "VPython",
   "language": "python",
   "name": "vpython"
  },
  "language_info": {
   "codemirror_mode": {
    "name": "ipython",
    "version": 3
   },
   "file_extension": ".py",
   "mimetype": "text/x-python",
   "name": "python",
   "nbconvert_exporter": "python",
   "pygments_lexer": "ipython3",
   "version": "3.7.0"
  }
 },
 "nbformat": 4,
 "nbformat_minor": 2
}
